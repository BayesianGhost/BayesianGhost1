{
 "cells": [
  {
   "cell_type": "code",
   "execution_count": 1,
   "id": "3a6747f7-8155-47af-8db1-44056eae100d",
   "metadata": {},
   "outputs": [
    {
     "name": "stderr",
     "output_type": "stream",
     "text": [
      "/home/sam/.local/lib/python3.10/site-packages/tqdm/auto.py:21: TqdmWarning: IProgress not found. Please update jupyter and ipywidgets. See https://ipywidgets.readthedocs.io/en/stable/user_install.html\n",
      "  from .autonotebook import tqdm as notebook_tqdm\n"
     ]
    }
   ],
   "source": [
    "import pandas as pd\n",
    "import numpy as np\n",
    "import matplotlib.pyplot as plt\n",
    "from sklearn.model_selection import train_test_split\n",
    "from transformers import AutoTokenizer\n",
    "from scipy import stats\n",
    "import torch\n",
    "import torch.nn as nn\n",
    "import torch.optim as optim\n",
    "import time"
   ]
  },
  {
   "cell_type": "code",
   "execution_count": 3,
   "id": "9379b08d-dc54-4feb-abf8-90acac9a8c6a",
   "metadata": {},
   "outputs": [
    {
     "name": "stdout",
     "output_type": "stream",
     "text": [
      "<class 'pandas.core.frame.DataFrame'>\n",
      "RangeIndex: 5572 entries, 0 to 5571\n",
      "Data columns (total 5 columns):\n",
      " #   Column  Non-Null Count  Dtype \n",
      "---  ------  --------------  ----- \n",
      " 0   label   5572 non-null   object\n",
      " 1   SMS     5572 non-null   object\n",
      " 2   s1      50 non-null     object\n",
      " 3   s2      12 non-null     object\n",
      " 4   s3      6 non-null      object\n",
      "dtypes: object(5)\n",
      "memory usage: 217.8+ KB\n"
     ]
    }
   ],
   "source": [
    "#read 1st row modified database of SMS\n",
    "\n",
    "data0 = pd.read_csv('/home/sam/Documents/spam.csv',encoding = \"ISO-8859-1\",dtype=str)\n",
    "#original database at https://archive.ics.uci.edu/dataset/228/sms+spam+collection\n",
    "data0.info()"
   ]
  },
  {
   "cell_type": "code",
   "execution_count": 4,
   "id": "db49c263-d4e8-4fa3-a200-47d670f77faa",
   "metadata": {},
   "outputs": [
    {
     "data": {
      "text/html": [
       "<div>\n",
       "<style scoped>\n",
       "    .dataframe tbody tr th:only-of-type {\n",
       "        vertical-align: middle;\n",
       "    }\n",
       "\n",
       "    .dataframe tbody tr th {\n",
       "        vertical-align: top;\n",
       "    }\n",
       "\n",
       "    .dataframe thead th {\n",
       "        text-align: right;\n",
       "    }\n",
       "</style>\n",
       "<table border=\"1\" class=\"dataframe\">\n",
       "  <thead>\n",
       "    <tr style=\"text-align: right;\">\n",
       "      <th></th>\n",
       "      <th>label</th>\n",
       "      <th>SMS</th>\n",
       "      <th>s1</th>\n",
       "      <th>s2</th>\n",
       "      <th>s3</th>\n",
       "    </tr>\n",
       "  </thead>\n",
       "  <tbody>\n",
       "    <tr>\n",
       "      <th>0</th>\n",
       "      <td>ham</td>\n",
       "      <td>Go until jurong point, crazy.. Available only ...</td>\n",
       "      <td>NaN</td>\n",
       "      <td>NaN</td>\n",
       "      <td>NaN</td>\n",
       "    </tr>\n",
       "    <tr>\n",
       "      <th>1</th>\n",
       "      <td>ham</td>\n",
       "      <td>Ok lar... Joking wif u oni...</td>\n",
       "      <td>NaN</td>\n",
       "      <td>NaN</td>\n",
       "      <td>NaN</td>\n",
       "    </tr>\n",
       "    <tr>\n",
       "      <th>2</th>\n",
       "      <td>spam</td>\n",
       "      <td>Free entry in 2 a wkly comp to win FA Cup fina...</td>\n",
       "      <td>NaN</td>\n",
       "      <td>NaN</td>\n",
       "      <td>NaN</td>\n",
       "    </tr>\n",
       "    <tr>\n",
       "      <th>3</th>\n",
       "      <td>ham</td>\n",
       "      <td>U dun say so early hor... U c already then say...</td>\n",
       "      <td>NaN</td>\n",
       "      <td>NaN</td>\n",
       "      <td>NaN</td>\n",
       "    </tr>\n",
       "    <tr>\n",
       "      <th>4</th>\n",
       "      <td>ham</td>\n",
       "      <td>Nah I don't think he goes to usf, he lives aro...</td>\n",
       "      <td>NaN</td>\n",
       "      <td>NaN</td>\n",
       "      <td>NaN</td>\n",
       "    </tr>\n",
       "  </tbody>\n",
       "</table>\n",
       "</div>"
      ],
      "text/plain": [
       "  label                                                SMS   s1   s2   s3\n",
       "0   ham  Go until jurong point, crazy.. Available only ...  NaN  NaN  NaN\n",
       "1   ham                      Ok lar... Joking wif u oni...  NaN  NaN  NaN\n",
       "2  spam  Free entry in 2 a wkly comp to win FA Cup fina...  NaN  NaN  NaN\n",
       "3   ham  U dun say so early hor... U c already then say...  NaN  NaN  NaN\n",
       "4   ham  Nah I don't think he goes to usf, he lives aro...  NaN  NaN  NaN"
      ]
     },
     "execution_count": 4,
     "metadata": {},
     "output_type": "execute_result"
    }
   ],
   "source": [
    "data0.head()"
   ]
  },
  {
   "cell_type": "code",
   "execution_count": 17,
   "id": "65108ff2-61ae-4af9-8e45-afe8822d815a",
   "metadata": {},
   "outputs": [
    {
     "data": {
      "text/html": [
       "<div>\n",
       "<style scoped>\n",
       "    .dataframe tbody tr th:only-of-type {\n",
       "        vertical-align: middle;\n",
       "    }\n",
       "\n",
       "    .dataframe tbody tr th {\n",
       "        vertical-align: top;\n",
       "    }\n",
       "\n",
       "    .dataframe thead th {\n",
       "        text-align: right;\n",
       "    }\n",
       "</style>\n",
       "<table border=\"1\" class=\"dataframe\">\n",
       "  <thead>\n",
       "    <tr style=\"text-align: right;\">\n",
       "      <th></th>\n",
       "      <th>label</th>\n",
       "      <th>SMS</th>\n",
       "      <th>label1</th>\n",
       "      <th>Text_size</th>\n",
       "    </tr>\n",
       "  </thead>\n",
       "  <tbody>\n",
       "    <tr>\n",
       "      <th>0</th>\n",
       "      <td>ham</td>\n",
       "      <td>Go until jurong point, crazy.. Available only ...</td>\n",
       "      <td>0.0</td>\n",
       "      <td>111</td>\n",
       "    </tr>\n",
       "    <tr>\n",
       "      <th>1</th>\n",
       "      <td>ham</td>\n",
       "      <td>Ok lar... Joking wif u oni...</td>\n",
       "      <td>0.0</td>\n",
       "      <td>29</td>\n",
       "    </tr>\n",
       "    <tr>\n",
       "      <th>2</th>\n",
       "      <td>spam</td>\n",
       "      <td>Free entry in 2 a wkly comp to win FA Cup fina...</td>\n",
       "      <td>1.0</td>\n",
       "      <td>155</td>\n",
       "    </tr>\n",
       "    <tr>\n",
       "      <th>3</th>\n",
       "      <td>ham</td>\n",
       "      <td>U dun say so early hor... U c already then say...</td>\n",
       "      <td>0.0</td>\n",
       "      <td>49</td>\n",
       "    </tr>\n",
       "    <tr>\n",
       "      <th>4</th>\n",
       "      <td>ham</td>\n",
       "      <td>Nah I don't think he goes to usf, he lives aro...</td>\n",
       "      <td>0.0</td>\n",
       "      <td>61</td>\n",
       "    </tr>\n",
       "  </tbody>\n",
       "</table>\n",
       "</div>"
      ],
      "text/plain": [
       "  label                                                SMS  label1  Text_size\n",
       "0   ham  Go until jurong point, crazy.. Available only ...     0.0        111\n",
       "1   ham                      Ok lar... Joking wif u oni...     0.0         29\n",
       "2  spam  Free entry in 2 a wkly comp to win FA Cup fina...     1.0        155\n",
       "3   ham  U dun say so early hor... U c already then say...     0.0         49\n",
       "4   ham  Nah I don't think he goes to usf, he lives aro...     0.0         61"
      ]
     },
     "execution_count": 17,
     "metadata": {},
     "output_type": "execute_result"
    }
   ],
   "source": [
    "#getting rid of the nan values, labeling spam as 1 and ham as 0 and adding acolumn for SMS text length\n",
    "\n",
    "data0.dropna(axis='columns',inplace=True) \n",
    "data0[\"label1\"]=data0[\"label\"].map({'spam': 1.0, 'ham': 0.0})\n",
    "data0[\"Text_size\"]=data0[\"SMS\"].str.len()\n",
    "data0.head()"
   ]
  },
  {
   "cell_type": "code",
   "execution_count": 18,
   "id": "67177e25-2adf-4939-8748-586f48602dfc",
   "metadata": {},
   "outputs": [
    {
     "data": {
      "image/png": "[encoded data removed]",
      "text/plain": [
       "<Figure size 640x480 with 1 Axes>"
      ]
     },
     "metadata": {},
     "output_type": "display_data"
    }
   ],
   "source": [
    "#detect outliers with boxplot\n",
    "data0.boxplot(column=\"Text_size\",grid=False)\n",
    "plt.show()"
   ]
  },
  {
   "cell_type": "code",
   "execution_count": 19,
   "id": "eb2cb3e0-a90b-42c5-9389-99c234347b89",
   "metadata": {},
   "outputs": [
    {
     "name": "stdout",
     "output_type": "stream",
     "text": [
      "Percentage of values with text size greater than 250: 0.01%\n",
      "Number of values with text size greater than 250: 68\n"
     ]
    },
    {
     "data": {
      "image/png": "[encoded data removed]",
      "text/plain": [
       "<Figure size 640x480 with 1 Axes>"
      ]
     },
     "metadata": {},
     "output_type": "display_data"
    }
   ],
   "source": [
    "#create new database for input with text size less than 250\n",
    "data1=data0[data0[\"Text_size\"]<=250]\n",
    "print('Percentage of values with text size greater than 250: '+str(round(len(data0[data0[\"Text_size\"]>250])/len(data0),2))+'%')\n",
    "print('Number of values with text size greater than 250: '+str(len(data0[data0[\"Text_size\"]>250])))\n",
    "data1.boxplot(column=\"Text_size\",grid=False)\n",
    "plt.show()"
   ]
  },
  {
   "cell_type": "code",
   "execution_count": 8,
   "id": "ddaeeccd-d438-45eb-8d7d-7b93b8fa4983",
   "metadata": {},
   "outputs": [],
   "source": [
    "#Using transformers library to tokenize the text\n",
    "\n",
    "padtkn=max(data1.Text_size) #padding number to have all tensors of the same length\n",
    "tokenizer = AutoTokenizer.from_pretrained(\"google-bert/bert-base-cased\")\n",
    "encodedinp=tokenizer(data1.SMS.tolist(),padding=True,truncation=True,max_length=padtkn,return_tensors='pt')"
   ]
  },
  {
   "cell_type": "code",
   "execution_count": 20,
   "id": "7a651a5d-2d4e-4130-85de-eccc0a508f0e",
   "metadata": {},
   "outputs": [
    {
     "name": "stdout",
     "output_type": "stream",
     "text": [
      "tensor([ 101., 4403., 1177., 1184., 1116., 1103., 2197., 1142., 2068.,  136.,\n",
      "         102.,    0.,    0.,    0.,    0.,    0.,    0.,    0.,    0.,    0.,\n",
      "           0.,    0.,    0.,    0.,    0.,    0.,    0.,    0.,    0.,    0.,\n",
      "           0.,    0.,    0.,    0.,    0.,    0.,    0.,    0.,    0.,    0.,\n",
      "           0.,    0.,    0.,    0.,    0.,    0.,    0.,    0.,    0.,    0.,\n",
      "           0.,    0.,    0.,    0.,    0.,    0.,    0.,    0.,    0.,    0.,\n",
      "           0.,    0.,    0.,    0.,    0.,    0.,    0.,    0.,    0.,    0.,\n",
      "           0.,    0.,    0.,    0.,    0.,    0.,    0.,    0.,    0.,    0.,\n",
      "           0.,    0.,    0.,    0.,    0.,    0.,    0.,    0.,    0.,    0.,\n",
      "           0.,    0.,    0.,    0.,    0.,    0.,    0.,    0.,    0.,    0.,\n",
      "           0.,    0.,    0.,    0.,    0.,    0.,    0.,    0.,    0.,    0.,\n",
      "           0.,    0.,    0.,    0.])\n",
      "Size of each input vector: 114\n",
      "Size of train data: 4953\n",
      "Size of test data: 551\n"
     ]
    },
    {
     "name": "stderr",
     "output_type": "stream",
     "text": [
      "/tmp/ipykernel_5867/797478831.py:4: UserWarning: To copy construct from a tensor, it is recommended to use sourceTensor.clone().detach() or sourceTensor.clone().detach().requires_grad_(True), rather than torch.tensor(sourceTensor).\n",
      "  x=torch.tensor(x,dtype=torch.float32)\n"
     ]
    }
   ],
   "source": [
    "#creating database for the KAN model to read with sklearn \n",
    "\n",
    "x=encodedinp['input_ids']\n",
    "x=torch.tensor(x,dtype=torch.float32)\n",
    "y=data1.label1.tolist()\n",
    "y=torch.tensor(y,dtype=torch.float32).reshape(len(y),1)\n",
    "\n",
    "xtrain, xtest, ytrain, ytest = train_test_split(x,y, test_size =.1, random_state = 42)\n",
    "data={'train_input':xtrain,'test_input':xtest,'train_label':ytrain,'test_label':ytest}\n",
    "print(xtrain[0])\n",
    "print('Size of each input vector: '+str(len(xtrain[0])))\n",
    "print('Size of train data: '+str(len(xtrain)))\n",
    "print('Size of test data: '+str(len(xtest)))"
   ]
  },
  {
   "cell_type": "code",
   "execution_count": 37,
   "id": "67454935-80fa-4e88-997b-96c48eb20156",
   "metadata": {},
   "outputs": [],
   "source": [
    "#creating model and setting up hyperparameters\n",
    "nr = 80\n",
    "n_epochs = 350\n",
    "batch_size = 30\n",
    "lr = 0.0001\n",
    "\n",
    "model = nn.Sequential(\n",
    "    nn.Linear(114,nr),\n",
    "    nn.Sigmoid(),\n",
    "    nn.Linear(nr,nr),\n",
    "    nn.Sigmoid(),\n",
    "    nn.Linear(nr,1),\n",
    "    nn.Sigmoid())\n",
    "\n",
    "loss_fn = nn.BCELoss()\n",
    "optimizer = optim.Adam(model.parameters(), lr=lr)"
   ]
  },
  {
   "cell_type": "code",
   "execution_count": 38,
   "id": "bc8a6045-285b-4571-9371-9a448a4abd45",
   "metadata": {},
   "outputs": [
    {
     "name": "stdout",
     "output_type": "stream",
     "text": [
      "Finished epoch 34 (10 %), latest loss 0.574434757232666\n",
      "Finished epoch 69 (20 %), latest loss 0.5091127753257751\n",
      "Finished epoch 104 (30 %), latest loss 0.3432939052581787\n",
      "Finished epoch 139 (40 %), latest loss 0.18290270864963531\n",
      "Finished epoch 174 (50 %), latest loss 0.12402918189764023\n",
      "Finished epoch 209 (60 %), latest loss 0.18697698414325714\n",
      "Finished epoch 244 (70 %), latest loss 0.14330728352069855\n",
      "Finished epoch 279 (80 %), latest loss 0.0989537164568901\n",
      "Finished epoch 314 (90 %), latest loss 0.14230132102966309\n",
      "Finished epoch 349 (100 %), latest loss 0.059828806668519974\n",
      "Total time: 0.8 min\n"
     ]
    }
   ],
   "source": [
    "start=time.time()\n",
    "c0=0\n",
    "for epoch in range(n_epochs):\n",
    "    for i in range(0,len(xtrain),batch_size):\n",
    "        xbatch = xtrain[i:i+batch_size]\n",
    "        ybatch = ytrain[i:i+batch_size]\n",
    "        y_model = model(xbatch)\n",
    "        loss = loss_fn(y_model,ybatch)\n",
    "        optimizer.zero_grad()\n",
    "        loss.backward()\n",
    "        optimizer.step()\n",
    "    c0=c0+1\n",
    "    prct = c0/n_epochs\n",
    "    if prct >= .10:\n",
    "        prci=round((epoch/n_epochs)*100)\n",
    "        print(f'Finished epoch {epoch} ({prci} %), latest loss {loss}')\n",
    "        c0=0\n",
    "end=time.time()\n",
    "time0=round((end-start)/60,1)\n",
    "print(f'Total time: {time0} min')"
   ]
  },
  {
   "cell_type": "code",
   "execution_count": 39,
   "id": "ba400b50-69ae-43a4-9707-bded0be16f02",
   "metadata": {},
   "outputs": [
    {
     "name": "stdout",
     "output_type": "stream",
     "text": [
      "Accuracy: 0.8983666300773621\n"
     ]
    }
   ],
   "source": [
    "yn = model(xtest)\n",
    "accuracy = (yn.round() == ytest).float().mean()\n",
    "print(f'Accuracy: {accuracy}')"
   ]
  },
  {
   "cell_type": "code",
   "execution_count": null,
   "id": "68ac3713-7559-4cea-9817-be82413ce7d9",
   "metadata": {},
   "outputs": [],
   "source": []
  }
 ],
 "metadata": {
  "kernelspec": {
   "display_name": "Python 3 (ipykernel)",
   "language": "python",
   "name": "python3"
  },
  "language_info": {
   "codemirror_mode": {
    "name": "ipython",
    "version": 3
   },
   "file_extension": ".py",
   "mimetype": "text/x-python",
   "name": "python",
   "nbconvert_exporter": "python",
   "pygments_lexer": "ipython3",
   "version": "3.10.12"
  }
 },
 "nbformat": 4,
 "nbformat_minor": 5
}
