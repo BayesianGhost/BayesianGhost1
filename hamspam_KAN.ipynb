{
 "cells": [
  {
   "cell_type": "markdown",
   "id": "62321ebf-ea46-4031-9e7d-9bac8d9d85c6",
   "metadata": {},
   "source": [
    "# Ham or spam SMS with KAN"
   ]
  },
  {
   "cell_type": "code",
   "execution_count": 1,
   "id": "acf6c280-b766-4a4b-a9b3-fd05fc1af705",
   "metadata": {},
   "outputs": [
    {
     "name": "stderr",
     "output_type": "stream",
     "text": [
      "/home/sam/.local/lib/python3.10/site-packages/tqdm/auto.py:21: TqdmWarning: IProgress not found. Please update jupyter and ipywidgets. See https://ipywidgets.readthedocs.io/en/stable/user_install.html\n",
      "  from .autonotebook import tqdm as notebook_tqdm\n"
     ]
    }
   ],
   "source": [
    "# import necessary libraries\n",
    "\n",
    "import pandas as pd\n",
    "import numpy as np\n",
    "import matplotlib.pyplot as plt\n",
    "from sklearn.model_selection import train_test_split\n",
    "from transformers import AutoTokenizer\n",
    "from scipy import stats\n",
    "import torch\n",
    "import torch.nn as nn\n",
    "import torch.optim as optim\n",
    "from kan import *\n",
    "from kan.utils import ex_round\n",
    "\n",
    "#read 1st row modified database of SMS\n",
    "\n",
    "data0 = pd.read_csv('/home/sam/Documents/spam.csv',encoding = \"ISO-8859-1\",dtype=str)\n",
    "#original database at https://archive.ics.uci.edu/dataset/228/sms+spam+collection"
   ]
  },
  {
   "cell_type": "code",
   "execution_count": 2,
   "id": "f3056b9a-febd-4e7d-9517-15b3bdef5c2f",
   "metadata": {},
   "outputs": [
    {
     "data": {
      "text/html": [
       "<div>\n",
       "<style scoped>\n",
       "    .dataframe tbody tr th:only-of-type {\n",
       "        vertical-align: middle;\n",
       "    }\n",
       "\n",
       "    .dataframe tbody tr th {\n",
       "        vertical-align: top;\n",
       "    }\n",
       "\n",
       "    .dataframe thead th {\n",
       "        text-align: right;\n",
       "    }\n",
       "</style>\n",
       "<table border=\"1\" class=\"dataframe\">\n",
       "  <thead>\n",
       "    <tr style=\"text-align: right;\">\n",
       "      <th></th>\n",
       "      <th>label</th>\n",
       "      <th>SMS</th>\n",
       "      <th>s1</th>\n",
       "      <th>s2</th>\n",
       "      <th>s3</th>\n",
       "    </tr>\n",
       "  </thead>\n",
       "  <tbody>\n",
       "    <tr>\n",
       "      <th>0</th>\n",
       "      <td>ham</td>\n",
       "      <td>Go until jurong point, crazy.. Available only ...</td>\n",
       "      <td>NaN</td>\n",
       "      <td>NaN</td>\n",
       "      <td>NaN</td>\n",
       "    </tr>\n",
       "    <tr>\n",
       "      <th>1</th>\n",
       "      <td>ham</td>\n",
       "      <td>Ok lar... Joking wif u oni...</td>\n",
       "      <td>NaN</td>\n",
       "      <td>NaN</td>\n",
       "      <td>NaN</td>\n",
       "    </tr>\n",
       "    <tr>\n",
       "      <th>2</th>\n",
       "      <td>spam</td>\n",
       "      <td>Free entry in 2 a wkly comp to win FA Cup fina...</td>\n",
       "      <td>NaN</td>\n",
       "      <td>NaN</td>\n",
       "      <td>NaN</td>\n",
       "    </tr>\n",
       "    <tr>\n",
       "      <th>3</th>\n",
       "      <td>ham</td>\n",
       "      <td>U dun say so early hor... U c already then say...</td>\n",
       "      <td>NaN</td>\n",
       "      <td>NaN</td>\n",
       "      <td>NaN</td>\n",
       "    </tr>\n",
       "    <tr>\n",
       "      <th>4</th>\n",
       "      <td>ham</td>\n",
       "      <td>Nah I don't think he goes to usf, he lives aro...</td>\n",
       "      <td>NaN</td>\n",
       "      <td>NaN</td>\n",
       "      <td>NaN</td>\n",
       "    </tr>\n",
       "  </tbody>\n",
       "</table>\n",
       "</div>"
      ],
      "text/plain": [
       "  label                                                SMS   s1   s2   s3\n",
       "0   ham  Go until jurong point, crazy.. Available only ...  NaN  NaN  NaN\n",
       "1   ham                      Ok lar... Joking wif u oni...  NaN  NaN  NaN\n",
       "2  spam  Free entry in 2 a wkly comp to win FA Cup fina...  NaN  NaN  NaN\n",
       "3   ham  U dun say so early hor... U c already then say...  NaN  NaN  NaN\n",
       "4   ham  Nah I don't think he goes to usf, he lives aro...  NaN  NaN  NaN"
      ]
     },
     "execution_count": 2,
     "metadata": {},
     "output_type": "execute_result"
    }
   ],
   "source": [
    "data0.head()"
   ]
  },
  {
   "cell_type": "code",
   "execution_count": 3,
   "id": "a92eafb1-ea22-4b97-bf5a-b98b8d28fe59",
   "metadata": {},
   "outputs": [
    {
     "data": {
      "text/html": [
       "<div>\n",
       "<style scoped>\n",
       "    .dataframe tbody tr th:only-of-type {\n",
       "        vertical-align: middle;\n",
       "    }\n",
       "\n",
       "    .dataframe tbody tr th {\n",
       "        vertical-align: top;\n",
       "    }\n",
       "\n",
       "    .dataframe thead th {\n",
       "        text-align: right;\n",
       "    }\n",
       "</style>\n",
       "<table border=\"1\" class=\"dataframe\">\n",
       "  <thead>\n",
       "    <tr style=\"text-align: right;\">\n",
       "      <th></th>\n",
       "      <th>label</th>\n",
       "      <th>SMS</th>\n",
       "      <th>label1</th>\n",
       "      <th>Text_size</th>\n",
       "    </tr>\n",
       "  </thead>\n",
       "  <tbody>\n",
       "    <tr>\n",
       "      <th>0</th>\n",
       "      <td>ham</td>\n",
       "      <td>Go until jurong point, crazy.. Available only ...</td>\n",
       "      <td>-1.0</td>\n",
       "      <td>111</td>\n",
       "    </tr>\n",
       "    <tr>\n",
       "      <th>1</th>\n",
       "      <td>ham</td>\n",
       "      <td>Ok lar... Joking wif u oni...</td>\n",
       "      <td>-1.0</td>\n",
       "      <td>29</td>\n",
       "    </tr>\n",
       "    <tr>\n",
       "      <th>2</th>\n",
       "      <td>spam</td>\n",
       "      <td>Free entry in 2 a wkly comp to win FA Cup fina...</td>\n",
       "      <td>1.0</td>\n",
       "      <td>155</td>\n",
       "    </tr>\n",
       "    <tr>\n",
       "      <th>3</th>\n",
       "      <td>ham</td>\n",
       "      <td>U dun say so early hor... U c already then say...</td>\n",
       "      <td>-1.0</td>\n",
       "      <td>49</td>\n",
       "    </tr>\n",
       "    <tr>\n",
       "      <th>4</th>\n",
       "      <td>ham</td>\n",
       "      <td>Nah I don't think he goes to usf, he lives aro...</td>\n",
       "      <td>-1.0</td>\n",
       "      <td>61</td>\n",
       "    </tr>\n",
       "  </tbody>\n",
       "</table>\n",
       "</div>"
      ],
      "text/plain": [
       "  label                                                SMS  label1  Text_size\n",
       "0   ham  Go until jurong point, crazy.. Available only ...    -1.0        111\n",
       "1   ham                      Ok lar... Joking wif u oni...    -1.0         29\n",
       "2  spam  Free entry in 2 a wkly comp to win FA Cup fina...     1.0        155\n",
       "3   ham  U dun say so early hor... U c already then say...    -1.0         49\n",
       "4   ham  Nah I don't think he goes to usf, he lives aro...    -1.0         61"
      ]
     },
     "execution_count": 3,
     "metadata": {},
     "output_type": "execute_result"
    }
   ],
   "source": [
    "#getting rid of the nan values, labeling spam as 1 and ham as 0 and adding acolumn for SMS text length\n",
    "\n",
    "data0.dropna(axis='columns',inplace=True) \n",
    "data0[\"label1\"]=data0[\"label\"].map({'spam': 1.0, 'ham': -1.0})\n",
    "data0[\"Text_size\"]=data0[\"SMS\"].str.len()\n",
    "data0.head()"
   ]
  },
  {
   "cell_type": "code",
   "execution_count": 4,
   "id": "ffb0a70c-8ae2-49c0-9fe4-cf10aa9572e1",
   "metadata": {},
   "outputs": [
    {
     "data": {
      "image/png": "[encoded data removed]",
      "text/plain": [
       "<Figure size 640x480 with 1 Axes>"
      ]
     },
     "metadata": {},
     "output_type": "display_data"
    }
   ],
   "source": [
    "#detect outliers with boxplot\n",
    "data0.boxplot(column=\"Text_size\",grid=False)\n",
    "plt.show()"
   ]
  },
  {
   "cell_type": "code",
   "execution_count": 5,
   "id": "9f570ca5-ce90-4d60-a14c-b52ef84c8790",
   "metadata": {},
   "outputs": [
    {
     "name": "stdout",
     "output_type": "stream",
     "text": [
      "Percentage of values with text size greater than 250: 0.01%\n",
      "Number of values with text size greater than 250: 68\n"
     ]
    },
    {
     "data": {
      "image/png": "[encoded data removed]",
      "text/plain": [
       "<Figure size 640x480 with 1 Axes>"
      ]
     },
     "metadata": {},
     "output_type": "display_data"
    }
   ],
   "source": [
    "#create new database for input with text size less than 250\n",
    "data1=data0[data0[\"Text_size\"]<=250]\n",
    "print('Percentage of values with text size greater than 250: '+str(round(len(data0[data0[\"Text_size\"]>250])/len(data0),2))+'%')\n",
    "print('Number of values with text size greater than 250: '+str(len(data0[data0[\"Text_size\"]>250])))\n",
    "data1.boxplot(column=\"Text_size\",grid=False)\n",
    "plt.show()"
   ]
  },
  {
   "cell_type": "code",
   "execution_count": 6,
   "id": "d572b66c-fc3a-4b47-8833-07885000b0f1",
   "metadata": {},
   "outputs": [],
   "source": [
    "#Using transformers library to tokenize the text\n",
    "\n",
    "padtkn=max(data1.Text_size) #padding number to have all tensors of the same length\n",
    "tokenizer = AutoTokenizer.from_pretrained(\"google-bert/bert-base-cased\")\n",
    "encodedinp=tokenizer(data1.SMS.tolist(),padding=True,truncation=True,max_length=padtkn,return_tensors='pt')"
   ]
  },
  {
   "cell_type": "code",
   "execution_count": 7,
   "id": "186f804c-b6b1-4ccb-b0ce-8d228fe1309c",
   "metadata": {},
   "outputs": [
    {
     "name": "stdout",
     "output_type": "stream",
     "text": [
      "tensor([ 101., 4403., 1177., 1184., 1116., 1103., 2197., 1142., 2068.,  136.,\n",
      "         102.,    0.,    0.,    0.,    0.,    0.,    0.,    0.,    0.,    0.,\n",
      "           0.,    0.,    0.,    0.,    0.,    0.,    0.,    0.,    0.,    0.,\n",
      "           0.,    0.,    0.,    0.,    0.,    0.,    0.,    0.,    0.,    0.,\n",
      "           0.,    0.,    0.,    0.,    0.,    0.,    0.,    0.,    0.,    0.,\n",
      "           0.,    0.,    0.,    0.,    0.,    0.,    0.,    0.,    0.,    0.,\n",
      "           0.,    0.,    0.,    0.,    0.,    0.,    0.,    0.,    0.,    0.,\n",
      "           0.,    0.,    0.,    0.,    0.,    0.,    0.,    0.,    0.,    0.,\n",
      "           0.,    0.,    0.,    0.,    0.,    0.,    0.,    0.,    0.,    0.,\n",
      "           0.,    0.,    0.,    0.,    0.,    0.,    0.,    0.,    0.,    0.,\n",
      "           0.,    0.,    0.,    0.,    0.,    0.,    0.,    0.,    0.,    0.,\n",
      "           0.,    0.,    0.,    0.])\n",
      "Size of each input vector: 114\n",
      "Size of train data: 4953\n",
      "Size of test data: 551\n"
     ]
    },
    {
     "name": "stderr",
     "output_type": "stream",
     "text": [
      "/tmp/ipykernel_4156/797478831.py:4: UserWarning: To copy construct from a tensor, it is recommended to use sourceTensor.clone().detach() or sourceTensor.clone().detach().requires_grad_(True), rather than torch.tensor(sourceTensor).\n",
      "  x=torch.tensor(x,dtype=torch.float32)\n"
     ]
    }
   ],
   "source": [
    "#creating database for the KAN model to read with sklearn \n",
    "\n",
    "x=encodedinp['input_ids']\n",
    "x=torch.tensor(x,dtype=torch.float32)\n",
    "y=data1.label1.tolist()\n",
    "y=torch.tensor(y,dtype=torch.float32).reshape(len(y),1)\n",
    "\n",
    "xtrain, xtest, ytrain, ytest = train_test_split(x,y, test_size =.1, random_state = 42)\n",
    "data={'train_input':xtrain,'test_input':xtest,'train_label':ytrain,'test_label':ytest}\n",
    "print(xtrain[0])\n",
    "print('Size of each input vector: '+str(len(xtrain[0])))\n",
    "print('Size of train data: '+str(len(xtrain)))\n",
    "print('Size of test data: '+str(len(xtest)))"
   ]
  },
  {
   "cell_type": "code",
   "execution_count": 34,
   "id": "55a1cdaf-af06-45b0-b0c3-8e185655fb46",
   "metadata": {},
   "outputs": [
    {
     "name": "stdout",
     "output_type": "stream",
     "text": [
      "checkpoint directory created: ./model\n",
      "saving model version 0.0\n"
     ]
    }
   ],
   "source": [
    "# creating the KAN model input size: 114, number of hidden neurons: 40, \n",
    "# 4th degree spline since higher polynomials \"flatten\" better at 0 and grid of 25 since higher polynomials may require more grid points\n",
    "\n",
    "model = KAN(width=[114,40,1], grid=25, k=4, seed=42)"
   ]
  },
  {
   "cell_type": "code",
   "execution_count": 35,
   "id": "16c8d3c3-8561-427d-a352-f6996b0bce54",
   "metadata": {},
   "outputs": [
    {
     "name": "stdout",
     "output_type": "stream",
     "text": [
      "tensor([[406.5481],\n",
      "        [ 81.3487],\n",
      "        [ 65.8792],\n",
      "        [  4.3321],\n",
      "        [-62.0319]], grad_fn=<SliceBackward0>)\n",
      "Accuracy: 0.0018148820381611586\n"
     ]
    }
   ],
   "source": [
    "#check model initial accuracy\n",
    "\n",
    "y0 = model(xtest)\n",
    "accuracy = (y0.round() == ytest).float().mean()\n",
    "print(y0[:5])\n",
    "print(f'Accuracy: {accuracy}')"
   ]
  },
  {
   "cell_type": "code",
   "execution_count": 36,
   "id": "28a981a3-2c30-4244-8b49-361651bd784e",
   "metadata": {},
   "outputs": [
    {
     "name": "stderr",
     "output_type": "stream",
     "text": [
      "| train_loss: 5.72e-01 | test_loss: 9.43e-01 | reg: 1.73e+02 | : 100%|█| 25/25 [13:22<00:00, 32.11s/"
     ]
    },
    {
     "name": "stdout",
     "output_type": "stream",
     "text": [
      "saving model version 0.1\n"
     ]
    },
    {
     "name": "stderr",
     "output_type": "stream",
     "text": [
      "\n"
     ]
    }
   ],
   "source": [
    "#fit model 25 steps and learning rate .01\n",
    "\n",
    "loss1=model.fit(data, opt=\"LBFGS\", steps=25, lamb=0.01)"
   ]
  },
  {
   "cell_type": "code",
   "execution_count": 37,
   "id": "67f0bb38-41e2-4f93-aeea-31625076891d",
   "metadata": {},
   "outputs": [
    {
     "data": {
      "image/png": "[encoded data removed]",
      "text/plain": [
       "<Figure size 640x480 with 1 Axes>"
      ]
     },
     "metadata": {},
     "output_type": "display_data"
    }
   ],
   "source": [
    "# plotting the loss function\n",
    "x = np.linspace(0, 25, 25)\n",
    "plt.plot(x,loss1['train_loss'],label='train loss')\n",
    "plt.plot(x,loss1['test_loss'],label='test loss')\n",
    "plt.title('loss function')\n",
    "plt.legend()\n",
    "plt.show()"
   ]
  },
  {
   "cell_type": "code",
   "execution_count": 38,
   "id": "8ec6fda7-c76d-4bd0-a7b2-74528878cf41",
   "metadata": {},
   "outputs": [
    {
     "name": "stdout",
     "output_type": "stream",
     "text": [
      "tensor([[ 0.0507],\n",
      "        [-0.8863],\n",
      "        [-1.5232],\n",
      "        [-1.3296],\n",
      "        [-0.9726],\n",
      "        [-1.2915],\n",
      "        [-1.1308],\n",
      "        [-1.2843],\n",
      "        [-1.2898],\n",
      "        [ 0.5459],\n",
      "        [-0.5536],\n",
      "        [-1.4880],\n",
      "        [-1.2479],\n",
      "        [-0.3972],\n",
      "        [-0.5923]], grad_fn=<SliceBackward0>)\n",
      "tensor([[ 1.],\n",
      "        [-1.],\n",
      "        [-1.],\n",
      "        [-1.],\n",
      "        [-1.],\n",
      "        [-1.],\n",
      "        [-1.],\n",
      "        [-1.],\n",
      "        [ 1.],\n",
      "        [ 1.],\n",
      "        [-1.],\n",
      "        [-1.],\n",
      "        [-1.],\n",
      "        [-1.],\n",
      "        [-1.]])\n"
     ]
    }
   ],
   "source": [
    "#verify values of the output after training the model\n",
    "\n",
    "y0=model(xtest)\n",
    "print(y0[:15])\n",
    "print(ytest[:15])"
   ]
  },
  {
   "cell_type": "code",
   "execution_count": 39,
   "id": "41791112-90e7-42aa-a980-3eea2f52b6a4",
   "metadata": {},
   "outputs": [
    {
     "name": "stdout",
     "output_type": "stream",
     "text": [
      "Accuracy: 0.8765880465507507, threshold: -0.5\n",
      "Accuracy: 0.9001814723014832, threshold: -0.4\n",
      "Accuracy: 0.9201452136039734, threshold: -0.3\n",
      "Accuracy: 0.9201452136039734, threshold: -0.2\n",
      "Accuracy: 0.9237749576568604, threshold: -0.1\n",
      "Accuracy: 0.9219600558280945, threshold: 0.0\n",
      "Accuracy: 0.9092559218406677, threshold: 0.1\n",
      "Accuracy: 0.905626118183136, threshold: 0.2\n",
      "Accuracy: 0.8929219841957092, threshold: 0.3\n",
      "Accuracy: 0.8892921805381775, threshold: 0.4\n",
      "Accuracy: 0.8911070823669434, threshold: 0.5\n",
      "Accuracy: 0.8856624364852905, threshold: 0.6\n",
      "Accuracy: 0.8820326924324036, threshold: 0.7\n",
      "Accuracy: 0.8784028887748718, threshold: 0.8\n",
      "Accuracy: 0.8747731447219849, threshold: 0.9\n"
     ]
    }
   ],
   "source": [
    "# As we can see from the predicted outputs y0, unlike sigmoid, KAN does not flatten that easily at 1 \n",
    "# so we create function out10 to create a threshold for spam\n",
    "\n",
    "def out10(data,thres=.7):\n",
    "    n=len(data)\n",
    "    for i in range(n):\n",
    "        if data[i][0]>=thres:\n",
    "            data[i][0]=1.0\n",
    "        else:\n",
    "            data[i][0]=-1.0\n",
    "    return(data)\n",
    "\n",
    "#verify accuracy of test input for different threshold\n",
    "for i in range(-5,10):\n",
    "    threshold = i/10\n",
    "    yn=out10(model(xtest),threshold)\n",
    "    accuracy = (yn == ytest).float().mean()\n",
    "    print(f'Accuracy: {accuracy}, threshold: {threshold}')"
   ]
  },
  {
   "cell_type": "code",
   "execution_count": 30,
   "id": "120538a7-281e-4eb3-8199-93010633202b",
   "metadata": {},
   "outputs": [
    {
     "name": "stdout",
     "output_type": "stream",
     "text": [
      "checkpoint directory created: ./model\n",
      "saving model version 0.0\n"
     ]
    }
   ],
   "source": [
    "# we create a new model with a 8 degree polynomial\n",
    "\n",
    "model8 = KAN(width=[114,40,1], grid=20, k=8, seed=42)"
   ]
  },
  {
   "cell_type": "code",
   "execution_count": 32,
   "id": "07767395-bbf4-40f0-8e61-d85a90f75b55",
   "metadata": {},
   "outputs": [
    {
     "name": "stderr",
     "output_type": "stream",
     "text": [
      "| train_loss: 2.57e-01 | test_loss: 2.71e-01 | reg: 2.28e+02 | : 100%|█| 20/20 [13:13<00:00, 39.66s/"
     ]
    },
    {
     "name": "stdout",
     "output_type": "stream",
     "text": [
      "saving model version 0.1\n"
     ]
    },
    {
     "name": "stderr",
     "output_type": "stream",
     "text": [
      "\n"
     ]
    }
   ],
   "source": [
    "loss8 = model8.fit(data, opt=\"LBFGS\", steps=20, lamb=0.01)"
   ]
  },
  {
   "cell_type": "code",
   "execution_count": 34,
   "id": "7ae224c3-0564-43ce-8283-a8f4afd81f72",
   "metadata": {},
   "outputs": [
    {
     "data": {
      "image/png": "[encoded data removed]",
      "text/plain": [
       "<Figure size 640x480 with 1 Axes>"
      ]
     },
     "metadata": {},
     "output_type": "display_data"
    }
   ],
   "source": [
    "# plotting the loss function\n",
    "x = np.linspace(0, 20, 20)\n",
    "plt.plot(x,loss8['train_loss'],label='train loss')\n",
    "plt.plot(x,loss8['test_loss'],label='test loss')\n",
    "plt.title('loss function 8 degree KAN')\n",
    "plt.legend()\n",
    "plt.show()"
   ]
  },
  {
   "cell_type": "code",
   "execution_count": 36,
   "id": "c59d0c62-657f-4cd6-9615-ec8c1d86ada4",
   "metadata": {},
   "outputs": [
    {
     "name": "stdout",
     "output_type": "stream",
     "text": [
      "tensor([[ 0.5288],\n",
      "        [-0.0287],\n",
      "        [ 0.0006],\n",
      "        [ 0.0608],\n",
      "        [ 0.0438],\n",
      "        [ 0.0825],\n",
      "        [-0.0072],\n",
      "        [ 0.0884],\n",
      "        [ 0.0246],\n",
      "        [ 0.4019],\n",
      "        [ 0.3205],\n",
      "        [ 0.0532],\n",
      "        [ 0.1533],\n",
      "        [ 0.3329],\n",
      "        [ 0.0648]], grad_fn=<SliceBackward0>)\n",
      "tensor([[1.],\n",
      "        [0.],\n",
      "        [0.],\n",
      "        [0.],\n",
      "        [0.],\n",
      "        [0.],\n",
      "        [0.],\n",
      "        [0.],\n",
      "        [1.],\n",
      "        [1.],\n",
      "        [0.],\n",
      "        [0.],\n",
      "        [0.],\n",
      "        [0.],\n",
      "        [0.]])\n"
     ]
    }
   ],
   "source": [
    "#verify values of the output after training the 8 degree model\n",
    "\n",
    "y8 = model8(xtest)\n",
    "print(y8[:15])\n",
    "print(ytest[:15])"
   ]
  },
  {
   "cell_type": "code",
   "execution_count": 37,
   "id": "93914f41-5c36-481b-9019-fda60cf9d0f9",
   "metadata": {},
   "outputs": [
    {
     "name": "stdout",
     "output_type": "stream",
     "text": [
      "Accuracy: 0.7350271940231323, threshold: 0.1\n",
      "Accuracy: 0.840290367603302, threshold: 0.2\n",
      "Accuracy: 0.8929219841957092, threshold: 0.3\n",
      "Accuracy: 0.9183303117752075, threshold: 0.4\n",
      "Accuracy: 0.9128856658935547, threshold: 0.5\n",
      "Accuracy: 0.8856624364852905, threshold: 0.6\n",
      "Accuracy: 0.872958242893219, threshold: 0.7\n",
      "Accuracy: 0.8675135970115662, threshold: 0.8\n",
      "Accuracy: 0.8656987547874451, threshold: 0.9\n"
     ]
    }
   ],
   "source": [
    "def out10(data,thres=.7):\n",
    "    n=len(data)\n",
    "    for i in range(n):\n",
    "        if data[i][0]>=thres:\n",
    "            data[i][0]=1.0\n",
    "        else:\n",
    "            data[i][0]=0.0\n",
    "    return(data)\n",
    "\n",
    "#verify accuracy of test input for different threshold\n",
    "for i in range(1,10):\n",
    "    threshold = i/10\n",
    "    yn=out10(model8(xtest),threshold)\n",
    "    accuracy = (yn == ytest).float().mean()\n",
    "    print(f'Accuracy: {accuracy}, threshold: {threshold}')"
   ]
  },
  {
   "cell_type": "code",
   "execution_count": 41,
   "id": "a83eb0c8-1f27-474d-99b5-8212d415dd76",
   "metadata": {},
   "outputs": [
    {
     "name": "stdout",
     "output_type": "stream",
     "text": [
      "checkpoint directory created: ./model\n",
      "saving model version 0.0\n"
     ]
    }
   ],
   "source": [
    "model2 = KAN(width=[114,40,1], grid=5, k=2, seed=42)"
   ]
  },
  {
   "cell_type": "code",
   "execution_count": 42,
   "id": "419059c2-cd01-46a8-9603-cd1c9748947d",
   "metadata": {},
   "outputs": [
    {
     "name": "stderr",
     "output_type": "stream",
     "text": [
      "| train_loss: 2.72e-01 | test_loss: 2.80e-01 | reg: 2.26e+02 | : 100%|█| 15/15 [03:13<00:00, 12.91s/"
     ]
    },
    {
     "name": "stdout",
     "output_type": "stream",
     "text": [
      "saving model version 0.1\n"
     ]
    },
    {
     "name": "stderr",
     "output_type": "stream",
     "text": [
      "\n"
     ]
    }
   ],
   "source": [
    "loss2 = model2.fit(data, opt=\"LBFGS\", steps=15, lamb=0.001)"
   ]
  },
  {
   "cell_type": "code",
   "execution_count": 43,
   "id": "e7fcf1b9-c6ac-4ee1-8c38-3b0155ac34fc",
   "metadata": {},
   "outputs": [
    {
     "name": "stdout",
     "output_type": "stream",
     "text": [
      "tensor([[ 0.3768],\n",
      "        [ 0.2265],\n",
      "        [-0.0024],\n",
      "        [-0.0535],\n",
      "        [ 0.1306],\n",
      "        [ 0.1191],\n",
      "        [ 0.0132],\n",
      "        [ 0.1008],\n",
      "        [ 0.0242],\n",
      "        [ 0.7872],\n",
      "        [ 0.6262],\n",
      "        [ 0.0929],\n",
      "        [ 0.1332],\n",
      "        [ 0.2475],\n",
      "        [ 0.0815]], grad_fn=<SliceBackward0>)\n",
      "tensor([[1.],\n",
      "        [0.],\n",
      "        [0.],\n",
      "        [0.],\n",
      "        [0.],\n",
      "        [0.],\n",
      "        [0.],\n",
      "        [0.],\n",
      "        [1.],\n",
      "        [1.],\n",
      "        [0.],\n",
      "        [0.],\n",
      "        [0.],\n",
      "        [0.],\n",
      "        [0.]])\n"
     ]
    }
   ],
   "source": [
    "#verify values of the output after training the model\n",
    "\n",
    "y2=model2(xtest)\n",
    "print(y2[:15])\n",
    "print(ytest[:15])"
   ]
  },
  {
   "cell_type": "code",
   "execution_count": 44,
   "id": "979f10a4-17e5-4ad0-b950-e3b81805d41d",
   "metadata": {},
   "outputs": [
    {
     "name": "stdout",
     "output_type": "stream",
     "text": [
      "Accuracy: 0.680580735206604, threshold: 0.1\n",
      "Accuracy: 0.8312159776687622, threshold: 0.2\n",
      "Accuracy: 0.8947368264198303, threshold: 0.3\n",
      "Accuracy: 0.905626118183136, threshold: 0.4\n",
      "Accuracy: 0.9001814723014832, threshold: 0.5\n",
      "Accuracy: 0.8911070823669434, threshold: 0.6\n",
      "Accuracy: 0.8838475346565247, threshold: 0.7\n",
      "Accuracy: 0.8711434006690979, threshold: 0.8\n",
      "Accuracy: 0.8675135970115662, threshold: 0.9\n"
     ]
    }
   ],
   "source": [
    "def out10(data,thres=.7):\n",
    "    n=len(data)\n",
    "    for i in range(n):\n",
    "        if data[i][0]>=thres:\n",
    "            data[i][0]=1.0\n",
    "        else:\n",
    "            data[i][0]=0.0\n",
    "    return(data)\n",
    "\n",
    "#verify accuracy of test input for different threshold\n",
    "for i in range(1,10):\n",
    "    threshold = i/10\n",
    "    yn=out10(model2(xtest),threshold)\n",
    "    accuracy = (yn == ytest).float().mean()\n",
    "    print(f'Accuracy: {accuracy}, threshold: {threshold}')"
   ]
  },
  {
   "cell_type": "code",
   "execution_count": null,
   "id": "a8297fd4-d3b7-4f5e-87f7-9e74e6831481",
   "metadata": {},
   "outputs": [],
   "source": []
  }
 ],
 "metadata": {
  "kernelspec": {
   "display_name": "Python 3 (ipykernel)",
   "language": "python",
   "name": "python3"
  },
  "language_info": {
   "codemirror_mode": {
    "name": "ipython",
    "version": 3
   },
   "file_extension": ".py",
   "mimetype": "text/x-python",
   "name": "python",
   "nbconvert_exporter": "python",
   "pygments_lexer": "ipython3",
   "version": "3.10.12"
  }
 },
 "nbformat": 4,
 "nbformat_minor": 5
}
